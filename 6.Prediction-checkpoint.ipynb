{
 "cells": [
  {
   "cell_type": "markdown",
   "id": "3ed920fb",
   "metadata": {},
   "source": [
    "## Predicting function"
   ]
  },
  {
   "cell_type": "code",
   "execution_count": 90,
   "id": "587f1db9",
   "metadata": {},
   "outputs": [],
   "source": [
    "def is_spam(text):\n",
    "    text_data=transform_text(text)\n",
    "    vector=tfidf.transform([text_data])\n",
    "    result=mnb.predict(vector)[0]\n",
    "    if result==1:\n",
    "        print('It is a Spam.')\n",
    "    else:\n",
    "        print('It is not a Spam.')"
   ]
  },
  {
   "cell_type": "code",
   "execution_count": 92,
   "id": "d3af384e",
   "metadata": {},
   "outputs": [
    {
     "name": "stdout",
     "output_type": "stream",
     "text": [
      "It is not a Spam.\n"
     ]
    }
   ],
   "source": [
    "is_spam('Im gonna be home soon and i dont want to talk about this stuff anymore tonight, k? Ive cried enough today.')"
   ]
  }
 ],
 "metadata": {
  "kernelspec": {
   "display_name": "Python 3 (ipykernel)",
   "language": "python",
   "name": "python3"
  },
  "language_info": {
   "codemirror_mode": {
    "name": "ipython",
    "version": 3
   },
   "file_extension": ".py",
   "mimetype": "text/x-python",
   "name": "python",
   "nbconvert_exporter": "python",
   "pygments_lexer": "ipython3",
   "version": "3.8.10"
  }
 },
 "nbformat": 4,
 "nbformat_minor": 5
}
