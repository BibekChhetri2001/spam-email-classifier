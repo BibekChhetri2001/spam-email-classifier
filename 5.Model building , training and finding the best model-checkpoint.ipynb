{
 "cells": [
  {
   "cell_type": "markdown",
   "id": "39d34f81",
   "metadata": {},
   "source": [
    "## Model Building"
   ]
  },
  {
   "cell_type": "code",
   "execution_count": 81,
   "id": "26d64320",
   "metadata": {},
   "outputs": [],
   "source": [
    "# We will vwctorize the data\n",
    "from sklearn.feature_extraction.text import CountVectorizer,TfidfVectorizer\n",
    "cv=CountVectorizer()\n",
    "tfidf=TfidfVectorizer(max_features=3000)"
   ]
  },
  {
   "cell_type": "code",
   "execution_count": 86,
   "id": "7eb2ef16",
   "metadata": {},
   "outputs": [],
   "source": [
    "x=cv.fit_transform(df['transformed_text']).toarray()\n",
    "X_data=tfidf.fit_transform(df['transformed_text']).toarray()"
   ]
  },
  {
   "cell_type": "code",
   "execution_count": 54,
   "id": "30acf39b",
   "metadata": {},
   "outputs": [
    {
     "data": {
      "text/plain": [
       "(5169, 6708)"
      ]
     },
     "execution_count": 54,
     "metadata": {},
     "output_type": "execute_result"
    }
   ],
   "source": [
    "x.shape"
   ]
  },
  {
   "cell_type": "code",
   "execution_count": 55,
   "id": "af8e343d",
   "metadata": {},
   "outputs": [],
   "source": [
    "y=df['target'].values"
   ]
  },
  {
   "cell_type": "code",
   "execution_count": 56,
   "id": "737b19da",
   "metadata": {},
   "outputs": [],
   "source": [
    "from sklearn.model_selection import train_test_split"
   ]
  },
  {
   "cell_type": "code",
   "execution_count": 57,
   "id": "7f0a60b2",
   "metadata": {},
   "outputs": [],
   "source": [
    "X_train,X_test,Y_train,Y_test=train_test_split(x,y,test_size=0.2,random_state=2)\n"
   ]
  },
  {
   "cell_type": "code",
   "execution_count": 58,
   "id": "44e0feca",
   "metadata": {},
   "outputs": [],
   "source": [
    "from sklearn.naive_bayes import GaussianNB,MultinomialNB,BernoulliNB\n",
    "from sklearn.metrics import accuracy_score,confusion_matrix,precision_score\n",
    "gnb=GaussianNB()\n",
    "mnb=MultinomialNB()\n",
    "bnb=BernoulliNB()"
   ]
  },
  {
   "cell_type": "code",
   "execution_count": 59,
   "id": "086dc8a0",
   "metadata": {},
   "outputs": [
    {
     "name": "stdout",
     "output_type": "stream",
     "text": [
      "Accuracy Score given by Gaussian Naive Bayes 0.8800773694390716\n",
      "Confusion Matrix given by Gaussian Naive Bayes \n",
      " [[792 104]\n",
      " [ 20 118]]\n",
      "Precision Score given by Gaussian Naive Bayes 0.5315315315315315\n"
     ]
    }
   ],
   "source": [
    "# Gaussian Naive Bayes  with CountVectorizer(Bag of words)\n",
    "gnb.fit(X_train,Y_train)\n",
    "y_pred1=gnb.predict(X_test)\n",
    "print('Accuracy Score given by Gaussian Naive Bayes',accuracy_score(Y_test,y_pred1))\n",
    "print('Confusion Matrix given by Gaussian Naive Bayes \\n',confusion_matrix(Y_test,y_pred1))\n",
    "print('Precision Score given by Gaussian Naive Bayes',precision_score(Y_test,y_pred1))"
   ]
  },
  {
   "cell_type": "code",
   "execution_count": 60,
   "id": "5ffe8f38",
   "metadata": {},
   "outputs": [
    {
     "name": "stdout",
     "output_type": "stream",
     "text": [
      "Accuracy Score given by Multinomial Naive Bayes 0.9642166344294004\n",
      "Confusion Matrix given by Multinomial Naive Bayes \n",
      " [[871  25]\n",
      " [ 12 126]]\n",
      "Precision Score given by Multinomial Naive Bayes 0.8344370860927153\n"
     ]
    }
   ],
   "source": [
    "# Multinomial Naive Bayes with CountVectorizer(Bag of words)\n",
    "mnb.fit(X_train,Y_train)\n",
    "y_pred2=mnb.predict(X_test)\n",
    "print('Accuracy Score given by Multinomial Naive Bayes',accuracy_score(Y_test,y_pred2))\n",
    "print('Confusion Matrix given by Multinomial Naive Bayes \\n',confusion_matrix(Y_test,y_pred2))\n",
    "print('Precision Score given by Multinomial Naive Bayes',precision_score(Y_test,y_pred2))"
   ]
  },
  {
   "cell_type": "code",
   "execution_count": 61,
   "id": "46a7f9f3",
   "metadata": {},
   "outputs": [
    {
     "name": "stdout",
     "output_type": "stream",
     "text": [
      "Accuracy Score given by Bernoulli Naive Bayes 0.9700193423597679\n",
      "Confusion Matrix given by Bernoulli Naive Bayes \n",
      " [[893   3]\n",
      " [ 28 110]]\n",
      "Precision Score given by Bernoulli Naive Bayes 0.9734513274336283\n"
     ]
    }
   ],
   "source": [
    "# Bernoulli Naive Bayes with CountVectorizer(Bag of words)\n",
    "bnb.fit(X_train,Y_train)\n",
    "y_pred3=bnb.predict(X_test)\n",
    "print('Accuracy Score given by Bernoulli Naive Bayes',accuracy_score(Y_test,y_pred3))\n",
    "print('Confusion Matrix given by Bernoulli Naive Bayes \\n',confusion_matrix(Y_test,y_pred3))\n",
    "print('Precision Score given by Bernoulli Naive Bayes',precision_score(Y_test,y_pred3))"
   ]
  },
  {
   "cell_type": "code",
   "execution_count": 85,
   "id": "3f05bac8",
   "metadata": {},
   "outputs": [],
   "source": [
    "# tfidf\n",
    "XX_train,XX_test,YY_train,YY_test=train_test_split(X_data,y,test_size=0.2,random_state=2)"
   ]
  },
  {
   "cell_type": "code",
   "execution_count": 63,
   "id": "8361466d",
   "metadata": {},
   "outputs": [
    {
     "name": "stdout",
     "output_type": "stream",
     "text": [
      "Accuracy Score given by Gaussian Naive Bayes 0.8694390715667312\n",
      "Confusion Matrix given by Gaussian Naive Bayes \n",
      " [[788 108]\n",
      " [ 27 111]]\n",
      "Precision Score given by Gaussian Naive Bayes 0.5068493150684932\n"
     ]
    }
   ],
   "source": [
    "# Gaussian Naive Bayes  with TFIDF\n",
    "gnb.fit(XX_train,YY_train)\n",
    "yy_pred1=gnb.predict(XX_test)\n",
    "print('Accuracy Score given by Gaussian Naive Bayes',accuracy_score(YY_test,yy_pred1))\n",
    "print('Confusion Matrix given by Gaussian Naive Bayes \\n',confusion_matrix(YY_test,yy_pred1))\n",
    "print('Precision Score given by Gaussian Naive Bayes',precision_score(YY_test,yy_pred1))"
   ]
  },
  {
   "cell_type": "code",
   "execution_count": 82,
   "id": "5b5fb816",
   "metadata": {},
   "outputs": [
    {
     "name": "stdout",
     "output_type": "stream",
     "text": [
      "Accuracy Score given by Multinomial Naive Bayes 0.9709864603481625\n",
      "Confusion Matrix given by Multinomial Naive Bayes \n",
      " [[896   0]\n",
      " [ 30 108]]\n",
      "Precision Score given by Multinomial Naive Bayes 1.0\n"
     ]
    }
   ],
   "source": [
    "# Multinomial Naive Bayes with TFIDF\n",
    "mnb.fit(XX_train,YY_train)\n",
    "yy_pred2=mnb.predict(XX_test)\n",
    "print('Accuracy Score given by Multinomial Naive Bayes',accuracy_score(YY_test,yy_pred2))\n",
    "print('Confusion Matrix given by Multinomial Naive Bayes \\n',confusion_matrix(YY_test,yy_pred2))\n",
    "print('Precision Score given by Multinomial Naive Bayes',precision_score(YY_test,yy_pred2))"
   ]
  },
  {
   "cell_type": "code",
   "execution_count": 65,
   "id": "400e004a",
   "metadata": {},
   "outputs": [
    {
     "name": "stdout",
     "output_type": "stream",
     "text": [
      "Accuracy Score given by Bernoulli Naive Bayes 0.9835589941972921\n",
      "Confusion Matrix given by Bernoulli Naive Bayes \n",
      " [[895   1]\n",
      " [ 16 122]]\n",
      "Precision Score given by Bernoulli Naive Bayes 0.991869918699187\n"
     ]
    }
   ],
   "source": [
    "# Bernoulli Naive Bayes with TFIDF\n",
    "bnb.fit(XX_train,YY_train)\n",
    "yy_pred3=bnb.predict(XX_test)\n",
    "print('Accuracy Score given by Bernoulli Naive Bayes',accuracy_score(YY_test,yy_pred3))\n",
    "print('Confusion Matrix given by Bernoulli Naive Bayes \\n',confusion_matrix(YY_test,yy_pred3))\n",
    "print('Precision Score given by Bernoulli Naive Bayes',precision_score(YY_test,yy_pred3))"
   ]
  },
  {
   "cell_type": "markdown",
   "id": "4a3ff438",
   "metadata": {},
   "source": [
    "# Since we have imbalanced data so we have to take care of precision score in addition to that we will implement that model which have low False Positive errors.\n",
    "# So we will select Multinomial Naive Bayes wtih TFIDF."
   ]
  },
  {
   "cell_type": "code",
   "execution_count": null,
   "id": "a17937dd",
   "metadata": {},
   "outputs": [],
   "source": []
  }
 ],
 "metadata": {
  "kernelspec": {
   "display_name": "Python 3 (ipykernel)",
   "language": "python",
   "name": "python3"
  },
  "language_info": {
   "codemirror_mode": {
    "name": "ipython",
    "version": 3
   },
   "file_extension": ".py",
   "mimetype": "text/x-python",
   "name": "python",
   "nbconvert_exporter": "python",
   "pygments_lexer": "ipython3",
   "version": "3.8.10"
  }
 },
 "nbformat": 4,
 "nbformat_minor": 5
}
